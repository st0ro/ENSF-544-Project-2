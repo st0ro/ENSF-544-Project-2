{
  "nbformat": 4,
  "nbformat_minor": 0,
  "metadata": {
    "colab": {
      "provenance": []
    },
    "kernelspec": {
      "name": "python3",
      "display_name": "Python 3"
    },
    "language_info": {
      "name": "python"
    }
  },
  "cells": [
    {
      "cell_type": "code",
      "execution_count": null,
      "metadata": {
        "id": "S2fKqPuqyxa1"
      },
      "outputs": [],
      "source": [
        "import pandas as pd\n",
        "import numpy as np\n",
        "import math\n",
        "from sklearn.svm import SVC\n",
        "from sklearn.preprocessing import StandardScaler\n",
        "from sklearn.model_selection import train_test_split\n",
        "from sklearn.neural_network import MLPRegressor\n",
        "from sklearn.metrics import mean_squared_error\n",
        "from sklearn.metrics import mean_absolute_percentage_error\n",
        "\n",
        "df = pd.read_csv('Concrete_Data.csv')\n"
      ]
    },
    {
      "cell_type": "code",
      "source": [
        "# threshold T = (Ymax + Ymin)/k, k = 4 since 4 is the optimal number of classes\n",
        "labels_array = df.iloc[:,[8]].to_numpy()\n",
        "T_value = (np.amax(labels_array) + np.amin(labels_array))/4\n",
        "\n",
        "# We have 4 class( Yi <= T | T < Yi <= 2T | 2T < Yi <= 3T | 3T < Yi <= 4T )\n",
        "# Now we assign classes to each value of label based on the conditions above\n",
        "\n",
        "classes = []\n",
        "for index, value in np.ndenumerate(labels_array):\n",
        "  if value <= T_value :\n",
        "    classes.append(1)\n",
        "  elif T_value < value <= 2*T_value:\n",
        "    classes.append(2)\n",
        "  elif 2*T_value < value <= 3*T_value:\n",
        "    classes.append(3)\n",
        "  elif 3*T_value < value <= 4*T_value:\n",
        "    classes.append(4)\n",
        "\n",
        "df['class'] = classes\n",
        "\n",
        "rmse_scores = { \"class1\": [] , \"class2\": [], \"class3\": [], \"class4\": [] }\n",
        "mape_scores = { \"class1\": [] , \"class2\": [], \"class3\": [], \"class4\": [] }"
      ],
      "metadata": {
        "id": "xgbw_YDiC07l"
      },
      "execution_count": null,
      "outputs": []
    },
    {
      "cell_type": "code",
      "source": [
        "# separate the data into 4 subsets based on their class and perform MLPRegressor on each\n",
        "class1 = df.loc[df['class'] == 1]\n",
        "\n",
        "features = class1.iloc[:, 0:7]\n",
        "labels = class1.iloc[:,[8]]\n",
        "labels = labels.values.ravel()\n",
        "\n",
        "X_train, X_test, y_train, y_test = train_test_split(features, labels, test_size=0.2)\n",
        "\n",
        "for n in range(10): \n",
        "  mlpr1 = MLPRegressor(max_iter=10000).fit(X_train, y_train)\n",
        "  rmse_scores['class1'].append(math.sqrt(mean_squared_error(y_test, mlpr1.predict(X_test))))\n",
        "  mape_scores['class1'].append(mean_absolute_percentage_error(y_test, mlpr1.predict(X_test)))\n"
      ],
      "metadata": {
        "id": "a_QbTKryC4qy"
      },
      "execution_count": null,
      "outputs": []
    },
    {
      "cell_type": "code",
      "source": [
        "class2 = df.loc[df['class'] == 2]\n",
        "features = class2.iloc[:, 0:7]\n",
        "labels = class2.iloc[:,[8]]\n",
        "labels = labels.values.ravel()\n",
        "\n",
        "X_train, X_test, y_train, y_test = train_test_split(features, labels, test_size=0.2)\n",
        "\n",
        "for n in range(10): \n",
        "  mlpr2 = MLPRegressor(max_iter=10000).fit(X_train, y_train)\n",
        "  rmse_scores['class2'].append(math.sqrt(mean_squared_error(y_test, mlpr2.predict(X_test))))\n",
        "  mape_scores['class2'].append(mean_absolute_percentage_error(y_test, mlpr2.predict(X_test)))"
      ],
      "metadata": {
        "id": "iO7M8RP76eLY"
      },
      "execution_count": null,
      "outputs": []
    },
    {
      "cell_type": "code",
      "source": [
        "class3 = df.loc[df['class'] == 3]\n",
        "\n",
        "features = class3.iloc[:, 0:7]\n",
        "labels = class3.iloc[:,[8]]\n",
        "labels = labels.values.ravel()\n",
        "\n",
        "X_train, X_test, y_train, y_test = train_test_split(features, labels, test_size=0.2)\n",
        "\n",
        "for n in range(10): \n",
        "  mlpr3 = MLPRegressor(max_iter=10000).fit(X_train, y_train)\n",
        "  rmse_scores['class3'].append(math.sqrt(mean_squared_error(y_test, mlpr3.predict(X_test))))\n",
        "  mape_scores['class3'].append(mean_absolute_percentage_error(y_test, mlpr3.predict(X_test)))"
      ],
      "metadata": {
        "id": "sMnR8P1qH1wj"
      },
      "execution_count": null,
      "outputs": []
    },
    {
      "cell_type": "code",
      "source": [
        "class4 = df.loc[df['class'] == 4]\n",
        "\n",
        "features = class4.iloc[:, 0:7]\n",
        "labels = class4.iloc[:,[8]]\n",
        "labels = labels.values.ravel()\n",
        "\n",
        "X_train, X_test, y_train, y_test = train_test_split(features, labels, test_size=0.2)\n",
        "\n",
        "for n in range(10): \n",
        "  mlpr4 = MLPRegressor(max_iter=10000).fit(X_train, y_train)\n",
        "  rmse_scores['class4'].append(math.sqrt(mean_squared_error(y_test, mlpr4.predict(X_test))))\n",
        "  mape_scores['class4'].append(mean_absolute_percentage_error(y_test, mlpr4.predict(X_test)))"
      ],
      "metadata": {
        "id": "Vp-00b5uH4Y0"
      },
      "execution_count": null,
      "outputs": []
    },
    {
      "cell_type": "code",
      "source": [
        "for index, k in enumerate(rmse_scores):\n",
        "  print(f'RMSE score of class {index + 1} = {sum(rmse_scores[k])/10:.5}')\n",
        "\n",
        "total_rmse = 0\n",
        "for index, k in enumerate(rmse_scores):\n",
        "  total_rmse = total_rmse + sum(rmse_scores[k])\n",
        "print(f'Average RMSE score = {total_rmse/40:.5}')\n",
        "\n",
        "for index, k in enumerate(mape_scores):\n",
        "  print(f'MAPE score of class {index+1} = {sum(mape_scores[k])/10:.5}')\n",
        "\n",
        "total_mape = 0\n",
        "for index, k in enumerate(mape_scores):\n",
        "  total_mape = total_mape + sum(mape_scores[k])\n",
        "print(f'Average MAPE score = {total_mape/40:.5}')"
      ],
      "metadata": {
        "colab": {
          "base_uri": "https://localhost:8080/"
        },
        "id": "jmqPEswtQo7A",
        "outputId": "022f20d1-303f-4d89-dafc-d2bb552261a4"
      },
      "execution_count": null,
      "outputs": [
        {
          "output_type": "stream",
          "name": "stdout",
          "text": [
            "RMSE score of class 1 = 60.844\n",
            "RMSE score of class 2 = 16.731\n",
            "RMSE score of class 3 = 53.404\n",
            "RMSE score of class 4 = 41.238\n",
            "RMSE score = 43.054\n",
            "MAPE score of class 1 = 4.6238\n",
            "MAPE score of class 2 = 0.45858\n",
            "MAPE score of class 3 = 0.9464\n",
            "MAPE score of class 4 = 0.53448\n",
            "MAPE score = 1.6408\n"
          ]
        }
      ]
    }
  ]
}
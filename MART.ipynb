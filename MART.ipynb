{
 "cells": [
  {
   "cell_type": "markdown",
   "metadata": {},
   "source": [
    "## Multiple Additive Regression Trees (Gradient Boosting Trees)"
   ]
  },
  {
   "cell_type": "code",
   "execution_count": 10,
   "metadata": {},
   "outputs": [],
   "source": [
    "import pandas as pd\n",
    "\n",
    "df = pd.read_excel(\"Concrete_Data.xls\")\n",
    "df.shape\n",
    "data = df.drop(df.columns[8], axis=1)\n",
    "target = df[df.columns[8]]"
   ]
  },
  {
   "cell_type": "code",
   "execution_count": 15,
   "metadata": {},
   "outputs": [],
   "source": [
    "from sklearn.ensemble import GradientBoostingRegressor\n",
    "from sklearn.model_selection import train_test_split\n",
    "\n",
    "x_train, x_test, y_train, y_test = train_test_split(data.to_numpy(), target.to_numpy(), random_state=0)"
   ]
  },
  {
   "cell_type": "code",
   "execution_count": 41,
   "metadata": {},
   "outputs": [
    {
     "name": "stdout",
     "output_type": "stream",
     "text": [
      "Train: 0.9871658995657046\n",
      "Test: 0.9282792082270999\n"
     ]
    }
   ],
   "source": [
    "gbrt = GradientBoostingRegressor(random_state=0, learning_rate=0.09, n_estimators=600, max_depth=3)\n",
    "gbrt.fit(x_train, y_train)\n",
    "\n",
    "print(\"Train:\", gbrt.score(x_train, y_train))\n",
    "print(\"Test:\", gbrt.score(x_test, y_test))"
   ]
  },
  {
   "cell_type": "code",
   "execution_count": 44,
   "metadata": {},
   "outputs": [
    {
     "name": "stdout",
     "output_type": "stream",
     "text": [
      "Test R2: 0.9282792082270999\n",
      "Test RMSE: 18.26496209605386 MPa\n",
      "Test MAPE: 10.222468386287444 %\n"
     ]
    }
   ],
   "source": [
    "from sklearn.metrics import mean_squared_error, r2_score, mean_absolute_percentage_error\n",
    "\n",
    "gbrt_pred_test = gbrt.predict(x_test)\n",
    "\n",
    "print(\"Test R2:\", r2_score(y_test, gbrt_pred_test))\n",
    "print(\"Test RMSE:\", mean_squared_error(y_test, gbrt_pred_test), \"MPa\")\n",
    "print(\"Test MAPE:\", mean_absolute_percentage_error(y_test, gbrt_pred_test) * 100, \"%\")"
   ]
  },
  {
   "cell_type": "markdown",
   "metadata": {},
   "source": [
    "## Bagging Regressor Trees"
   ]
  },
  {
   "cell_type": "code",
   "execution_count": 45,
   "metadata": {},
   "outputs": [
    {
     "name": "stdout",
     "output_type": "stream",
     "text": [
      "Train: 0.9803627001283683\n",
      "Test: 0.8789568491705422\n"
     ]
    }
   ],
   "source": [
    "from sklearn.ensemble import BaggingRegressor\n",
    "\n",
    "brt = BaggingRegressor(random_state=0)\n",
    "brt.fit(x_train, y_train)\n",
    "\n",
    "print(\"Train:\", brt.score(x_train, y_train))\n",
    "print(\"Test:\", brt.score(x_test, y_test))"
   ]
  },
  {
   "cell_type": "code",
   "execution_count": 46,
   "metadata": {},
   "outputs": [
    {
     "name": "stdout",
     "output_type": "stream",
     "text": [
      "Test R2: 0.8789568491705422\n",
      "Test RMSE: 30.82576903065298 MPa\n",
      "Test MAPE: 14.658894289539651 %\n"
     ]
    }
   ],
   "source": [
    "brt_pred_test = brt.predict(x_test)\n",
    "\n",
    "print(\"Test R2:\", r2_score(y_test, brt_pred_test))\n",
    "print(\"Test RMSE:\", mean_squared_error(y_test, brt_pred_test), \"MPa\")\n",
    "print(\"Test MAPE:\", mean_absolute_percentage_error(y_test, brt_pred_test) * 100, \"%\")"
   ]
  }
 ],
 "metadata": {
  "kernelspec": {
   "display_name": "Python 3.10.3 64-bit",
   "language": "python",
   "name": "python3"
  },
  "language_info": {
   "codemirror_mode": {
    "name": "ipython",
    "version": 3
   },
   "file_extension": ".py",
   "mimetype": "text/x-python",
   "name": "python",
   "nbconvert_exporter": "python",
   "pygments_lexer": "ipython3",
   "version": "3.10.3"
  },
  "orig_nbformat": 4,
  "vscode": {
   "interpreter": {
    "hash": "d0d8f4ad52842acb1bd88b5e4d5a3e855ffe6009d6de89734aac6954d5696bda"
   }
  }
 },
 "nbformat": 4,
 "nbformat_minor": 2
}
